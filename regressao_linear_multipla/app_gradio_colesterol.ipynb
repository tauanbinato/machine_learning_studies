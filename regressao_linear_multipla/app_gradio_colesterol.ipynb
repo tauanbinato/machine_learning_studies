{
 "cells": [
  {
   "cell_type": "code",
   "execution_count": 14,
   "metadata": {},
   "outputs": [],
   "source": [
    "import gradio as gr\n",
    "import joblib\n",
    "import pandas as pd"
   ]
  },
  {
   "cell_type": "code",
   "execution_count": 15,
   "metadata": {},
   "outputs": [],
   "source": [
    "# Importar o modelo\n",
    "modelo = joblib.load('./model_regr_colesterol.pkl')"
   ]
  },
  {
   "cell_type": "code",
   "execution_count": 16,
   "metadata": {},
   "outputs": [],
   "source": [
    "# Função para predição do colesterol com base nos dados informados\n",
    "def predict(grupo_sanguineo, fumante, nivel_atividade_fisica, idade, peso, altura) :\n",
    "    _fumante = \"Sim\" if fumante else \"Não\"\n",
    "    predicao_individual = {\n",
    "        'grupo_sanguineo': grupo_sanguineo,\n",
    "        'fumante': _fumante,\n",
    "        'nivel_atividade_fisica': nivel_atividade_fisica,\n",
    "        'idade': idade,\n",
    "        'peso': peso,\n",
    "        'altura': altura\n",
    "    }\n",
    "    predict_df = pd.DataFrame(predicao_individual, index=[1])\n",
    "    colesterol = modelo.predict(predict_df)\n",
    "    return colesterol.reshape(-1)"
   ]
  },
  {
   "cell_type": "code",
   "execution_count": 17,
   "metadata": {},
   "outputs": [],
   "source": [
    "demo = gr.Interface(\n",
    "    fn=predict,\n",
    "    inputs=[\n",
    "        gr.Dropdown(['A', 'B', 'AB', 'O'], label=\"Grupo Sanguíneo\"),\n",
    "        gr.Radio(['Sim', 'Não'], label=\"Fumante\"),\n",
    "        gr.Radio(['Baixo', 'Moderado', 'Alto'], label=\"Nível de Atividade Física\"),\n",
    "        gr.Number(label=\"Idade\"),\n",
    "        gr.Number(label=\"Peso (kg)\"),\n",
    "        gr.Number(label=\"Altura (cm)\")\n",
    "    ],\n",
    "    outputs=gr.Textbox(label=\"Colesterol (mg/dL)\")\n",
    ")"
   ]
  },
  {
   "cell_type": "code",
   "execution_count": 19,
   "metadata": {},
   "outputs": [
    {
     "name": "stdout",
     "output_type": "stream",
     "text": [
      "Rerunning server... use `close()` to stop if you need to change `launch()` parameters.\n",
      "----\n",
      "Running on public URL: https://0999550a9b0991174a.gradio.live\n",
      "\n",
      "This share link expires in 72 hours. For free permanent hosting and GPU upgrades, run `gradio deploy` from Terminal to deploy to Spaces (https://huggingface.co/spaces)\n"
     ]
    },
    {
     "data": {
      "text/html": [
       "<div><iframe src=\"https://0999550a9b0991174a.gradio.live\" width=\"100%\" height=\"500\" allow=\"autoplay; camera; microphone; clipboard-read; clipboard-write;\" frameborder=\"0\" allowfullscreen></iframe></div>"
      ],
      "text/plain": [
       "<IPython.core.display.HTML object>"
      ]
     },
     "metadata": {},
     "output_type": "display_data"
    },
    {
     "data": {
      "text/plain": []
     },
     "execution_count": 19,
     "metadata": {},
     "output_type": "execute_result"
    }
   ],
   "source": [
    "demo.launch(share=True)"
   ]
  }
 ],
 "metadata": {
  "kernelspec": {
   "display_name": "regressao_linear_multipla-gC8zrO3K",
   "language": "python",
   "name": "python3"
  },
  "language_info": {
   "codemirror_mode": {
    "name": "ipython",
    "version": 3
   },
   "file_extension": ".py",
   "mimetype": "text/x-python",
   "name": "python",
   "nbconvert_exporter": "python",
   "pygments_lexer": "ipython3",
   "version": "3.12.2"
  }
 },
 "nbformat": 4,
 "nbformat_minor": 2
}
